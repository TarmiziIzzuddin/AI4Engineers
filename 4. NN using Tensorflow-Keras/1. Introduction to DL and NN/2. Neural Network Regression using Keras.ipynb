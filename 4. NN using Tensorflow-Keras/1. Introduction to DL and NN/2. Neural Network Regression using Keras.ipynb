{
 "cells": [
  {
   "cell_type": "markdown",
   "metadata": {
    "button": false,
    "new_sheet": false,
    "run_control": {
     "read_only": false
    }
   },
   "source": [
    "<p align=\"center\"><img src=\"https://www.utem.edu.my/templates/yootheme/cache/03/LogoUTeM-03999b95.png\" width=\"300\"></p>\n"
   ]
  },
  {
   "cell_type": "markdown",
   "metadata": {},
   "source": [
    "<h1><center>Neural Network Regression using Tensorflow-Keras</center></h1>\n",
    "<h4>About this Notebook</h4>\n",
    "\n",
    "As we discussed in the lecture, despite the popularity of more powerful libraries such as PyToch and TensorFlow, they are not easy to use and have a steep learning curve. So, for people who are just starting to learn deep learning, there is no better library to use other than the Keras library. \n",
    "\n",
    "Keras is a high-level API for building deep learning models. It has gained favor for its ease of use and syntactic simplicity facilitating fast development. As you will see in this lab and the other labs in this course, building a very complex deep learning network can be achieved with Keras with only few lines of code. You will appreciate Keras even more, once you learn how to build deep models using PyTorch and TensorFlow in the other courses.\n",
    "\n",
    "So, in this lab, you will learn how to use the Keras library to build a regression model."
   ]
  },
  {
   "cell_type": "markdown",
   "metadata": {
    "button": false,
    "deletable": true,
    "new_sheet": false,
    "run_control": {
     "read_only": false
    }
   },
   "source": [
    "Let's start by importing the <em>pandas</em> and the Numpy libraries."
   ]
  },
  {
   "cell_type": "code",
   "execution_count": 1,
   "metadata": {
    "button": false,
    "deletable": true,
    "new_sheet": false,
    "run_control": {
     "read_only": false
    }
   },
   "outputs": [],
   "source": [
    "import pandas as pd\n",
    "import numpy as np"
   ]
  },
  {
   "cell_type": "markdown",
   "metadata": {
    "button": false,
    "deletable": true,
    "new_sheet": false,
    "run_control": {
     "read_only": false
    }
   },
   "source": [
    "## Dataset loading and review"
   ]
  },
  {
   "cell_type": "markdown",
   "metadata": {
    "button": false,
    "deletable": true,
    "new_sheet": false,
    "run_control": {
     "read_only": false
    }
   },
   "source": [
    "In this lab tutorial, we will be the concrete_data.csv dataset(https://www.kaggle.com/datasets/elikplim/concrete-compressive-strength-data-set). Abstract on the data:\n",
    "\n",
    "Concrete is the most important material in civil engineering. The\n",
    "concrete compressive strength is a highly nonlinear function of age and\n",
    "ingredients. These ingredients include cement, blast furnace slag, fly ash,\n",
    "water, superplasticizer, coarse aggregate, and fine aggregate.\n",
    "\n",
    "<strong>The dataset is about the compressive strength of different samples of concrete based on the volumes of the different ingredients that were used to make them. Our objective is to predict the compressive strength of the concrete based on several ingredients. The ingredients include:</strong>\n",
    "\n",
    "<strong>1. Cement</strong>\n",
    "\n",
    "<strong>2. Blast Furnace Slag</strong>\n",
    "\n",
    "<strong>3. Fly Ash</strong>\n",
    "\n",
    "<strong>4. Water</strong>\n",
    "\n",
    "<strong>5. Superplasticizer</strong>\n",
    "\n",
    "<strong>6. Coarse Aggregate</strong>\n",
    "\n",
    "<strong>7. Fine Aggregate</strong>"
   ]
  },
  {
   "cell_type": "markdown",
   "metadata": {
    "button": false,
    "deletable": true,
    "new_sheet": false,
    "run_control": {
     "read_only": false
    }
   },
   "source": [
    "Let's download the data and read it into a <em>pandas</em> dataframe."
   ]
  },
  {
   "cell_type": "code",
   "execution_count": 2,
   "metadata": {
    "button": false,
    "deletable": true,
    "new_sheet": false,
    "run_control": {
     "read_only": false
    }
   },
   "outputs": [
    {
     "data": {
      "text/html": [
       "<div>\n",
       "<style scoped>\n",
       "    .dataframe tbody tr th:only-of-type {\n",
       "        vertical-align: middle;\n",
       "    }\n",
       "\n",
       "    .dataframe tbody tr th {\n",
       "        vertical-align: top;\n",
       "    }\n",
       "\n",
       "    .dataframe thead th {\n",
       "        text-align: right;\n",
       "    }\n",
       "</style>\n",
       "<table border=\"1\" class=\"dataframe\">\n",
       "  <thead>\n",
       "    <tr style=\"text-align: right;\">\n",
       "      <th></th>\n",
       "      <th>Cement</th>\n",
       "      <th>Blast Furnace Slag</th>\n",
       "      <th>Fly Ash</th>\n",
       "      <th>Water</th>\n",
       "      <th>Superplasticizer</th>\n",
       "      <th>Coarse Aggregate</th>\n",
       "      <th>Fine Aggregate</th>\n",
       "      <th>Age</th>\n",
       "      <th>Strength</th>\n",
       "    </tr>\n",
       "  </thead>\n",
       "  <tbody>\n",
       "    <tr>\n",
       "      <th>0</th>\n",
       "      <td>540.0</td>\n",
       "      <td>0.0</td>\n",
       "      <td>0.0</td>\n",
       "      <td>162.0</td>\n",
       "      <td>2.5</td>\n",
       "      <td>1040.0</td>\n",
       "      <td>676.0</td>\n",
       "      <td>28</td>\n",
       "      <td>79.99</td>\n",
       "    </tr>\n",
       "    <tr>\n",
       "      <th>1</th>\n",
       "      <td>540.0</td>\n",
       "      <td>0.0</td>\n",
       "      <td>0.0</td>\n",
       "      <td>162.0</td>\n",
       "      <td>2.5</td>\n",
       "      <td>1055.0</td>\n",
       "      <td>676.0</td>\n",
       "      <td>28</td>\n",
       "      <td>61.89</td>\n",
       "    </tr>\n",
       "    <tr>\n",
       "      <th>2</th>\n",
       "      <td>332.5</td>\n",
       "      <td>142.5</td>\n",
       "      <td>0.0</td>\n",
       "      <td>228.0</td>\n",
       "      <td>0.0</td>\n",
       "      <td>932.0</td>\n",
       "      <td>594.0</td>\n",
       "      <td>270</td>\n",
       "      <td>40.27</td>\n",
       "    </tr>\n",
       "    <tr>\n",
       "      <th>3</th>\n",
       "      <td>332.5</td>\n",
       "      <td>142.5</td>\n",
       "      <td>0.0</td>\n",
       "      <td>228.0</td>\n",
       "      <td>0.0</td>\n",
       "      <td>932.0</td>\n",
       "      <td>594.0</td>\n",
       "      <td>365</td>\n",
       "      <td>41.05</td>\n",
       "    </tr>\n",
       "    <tr>\n",
       "      <th>4</th>\n",
       "      <td>198.6</td>\n",
       "      <td>132.4</td>\n",
       "      <td>0.0</td>\n",
       "      <td>192.0</td>\n",
       "      <td>0.0</td>\n",
       "      <td>978.4</td>\n",
       "      <td>825.5</td>\n",
       "      <td>360</td>\n",
       "      <td>44.30</td>\n",
       "    </tr>\n",
       "  </tbody>\n",
       "</table>\n",
       "</div>"
      ],
      "text/plain": [
       "   Cement  Blast Furnace Slag  Fly Ash  Water  Superplasticizer  \\\n",
       "0   540.0                 0.0      0.0  162.0               2.5   \n",
       "1   540.0                 0.0      0.0  162.0               2.5   \n",
       "2   332.5               142.5      0.0  228.0               0.0   \n",
       "3   332.5               142.5      0.0  228.0               0.0   \n",
       "4   198.6               132.4      0.0  192.0               0.0   \n",
       "\n",
       "   Coarse Aggregate  Fine Aggregate  Age  Strength  \n",
       "0            1040.0           676.0   28     79.99  \n",
       "1            1055.0           676.0   28     61.89  \n",
       "2             932.0           594.0  270     40.27  \n",
       "3             932.0           594.0  365     41.05  \n",
       "4             978.4           825.5  360     44.30  "
      ]
     },
     "execution_count": 2,
     "metadata": {},
     "output_type": "execute_result"
    }
   ],
   "source": [
    "concrete_data = pd.read_csv('concrete_data.csv')\n",
    "concrete_data.head()"
   ]
  },
  {
   "cell_type": "markdown",
   "metadata": {
    "button": false,
    "deletable": true,
    "new_sheet": false,
    "run_control": {
     "read_only": false
    }
   },
   "source": [
    "So the first concrete sample has 540 cubic meter of cement, 0 cubic meter of blast furnace slag, 0 cubic meter of fly ash, 162 cubic meter of water, 2.5 cubic meter of superplaticizer, 1040 cubic meter of coarse aggregate, 676 cubic meter of fine aggregate. Such a concrete mix which is 28 days old, has a compressive strength of 79.99 MPa. "
   ]
  },
  {
   "cell_type": "markdown",
   "metadata": {
    "button": false,
    "deletable": true,
    "new_sheet": false,
    "run_control": {
     "read_only": false
    }
   },
   "source": [
    "#### Let's check how many data points we have."
   ]
  },
  {
   "cell_type": "code",
   "execution_count": 3,
   "metadata": {
    "button": false,
    "deletable": true,
    "new_sheet": false,
    "run_control": {
     "read_only": false
    }
   },
   "outputs": [
    {
     "data": {
      "text/plain": [
       "(1030, 9)"
      ]
     },
     "execution_count": 3,
     "metadata": {},
     "output_type": "execute_result"
    }
   ],
   "source": [
    "concrete_data.shape"
   ]
  },
  {
   "cell_type": "markdown",
   "metadata": {
    "button": false,
    "deletable": true,
    "new_sheet": false,
    "run_control": {
     "read_only": false
    }
   },
   "source": [
    "So, there are approximately 1000 samples to train our model on. Because of the few samples, we have to be careful not to overfit the training data."
   ]
  },
  {
   "cell_type": "markdown",
   "metadata": {
    "button": false,
    "deletable": true,
    "new_sheet": false,
    "run_control": {
     "read_only": false
    }
   },
   "source": [
    "Let's check the dataset for any missing values."
   ]
  },
  {
   "cell_type": "code",
   "execution_count": 4,
   "metadata": {
    "button": false,
    "deletable": true,
    "new_sheet": false,
    "run_control": {
     "read_only": false
    }
   },
   "outputs": [
    {
     "data": {
      "text/html": [
       "<div>\n",
       "<style scoped>\n",
       "    .dataframe tbody tr th:only-of-type {\n",
       "        vertical-align: middle;\n",
       "    }\n",
       "\n",
       "    .dataframe tbody tr th {\n",
       "        vertical-align: top;\n",
       "    }\n",
       "\n",
       "    .dataframe thead th {\n",
       "        text-align: right;\n",
       "    }\n",
       "</style>\n",
       "<table border=\"1\" class=\"dataframe\">\n",
       "  <thead>\n",
       "    <tr style=\"text-align: right;\">\n",
       "      <th></th>\n",
       "      <th>Cement</th>\n",
       "      <th>Blast Furnace Slag</th>\n",
       "      <th>Fly Ash</th>\n",
       "      <th>Water</th>\n",
       "      <th>Superplasticizer</th>\n",
       "      <th>Coarse Aggregate</th>\n",
       "      <th>Fine Aggregate</th>\n",
       "      <th>Age</th>\n",
       "      <th>Strength</th>\n",
       "    </tr>\n",
       "  </thead>\n",
       "  <tbody>\n",
       "    <tr>\n",
       "      <th>count</th>\n",
       "      <td>1030.000000</td>\n",
       "      <td>1030.000000</td>\n",
       "      <td>1030.000000</td>\n",
       "      <td>1030.000000</td>\n",
       "      <td>1030.000000</td>\n",
       "      <td>1030.000000</td>\n",
       "      <td>1030.000000</td>\n",
       "      <td>1030.000000</td>\n",
       "      <td>1030.000000</td>\n",
       "    </tr>\n",
       "    <tr>\n",
       "      <th>mean</th>\n",
       "      <td>281.167864</td>\n",
       "      <td>73.895825</td>\n",
       "      <td>54.188350</td>\n",
       "      <td>181.567282</td>\n",
       "      <td>6.204660</td>\n",
       "      <td>972.918932</td>\n",
       "      <td>773.580485</td>\n",
       "      <td>45.662136</td>\n",
       "      <td>35.817961</td>\n",
       "    </tr>\n",
       "    <tr>\n",
       "      <th>std</th>\n",
       "      <td>104.506364</td>\n",
       "      <td>86.279342</td>\n",
       "      <td>63.997004</td>\n",
       "      <td>21.354219</td>\n",
       "      <td>5.973841</td>\n",
       "      <td>77.753954</td>\n",
       "      <td>80.175980</td>\n",
       "      <td>63.169912</td>\n",
       "      <td>16.705742</td>\n",
       "    </tr>\n",
       "    <tr>\n",
       "      <th>min</th>\n",
       "      <td>102.000000</td>\n",
       "      <td>0.000000</td>\n",
       "      <td>0.000000</td>\n",
       "      <td>121.800000</td>\n",
       "      <td>0.000000</td>\n",
       "      <td>801.000000</td>\n",
       "      <td>594.000000</td>\n",
       "      <td>1.000000</td>\n",
       "      <td>2.330000</td>\n",
       "    </tr>\n",
       "    <tr>\n",
       "      <th>25%</th>\n",
       "      <td>192.375000</td>\n",
       "      <td>0.000000</td>\n",
       "      <td>0.000000</td>\n",
       "      <td>164.900000</td>\n",
       "      <td>0.000000</td>\n",
       "      <td>932.000000</td>\n",
       "      <td>730.950000</td>\n",
       "      <td>7.000000</td>\n",
       "      <td>23.710000</td>\n",
       "    </tr>\n",
       "    <tr>\n",
       "      <th>50%</th>\n",
       "      <td>272.900000</td>\n",
       "      <td>22.000000</td>\n",
       "      <td>0.000000</td>\n",
       "      <td>185.000000</td>\n",
       "      <td>6.400000</td>\n",
       "      <td>968.000000</td>\n",
       "      <td>779.500000</td>\n",
       "      <td>28.000000</td>\n",
       "      <td>34.445000</td>\n",
       "    </tr>\n",
       "    <tr>\n",
       "      <th>75%</th>\n",
       "      <td>350.000000</td>\n",
       "      <td>142.950000</td>\n",
       "      <td>118.300000</td>\n",
       "      <td>192.000000</td>\n",
       "      <td>10.200000</td>\n",
       "      <td>1029.400000</td>\n",
       "      <td>824.000000</td>\n",
       "      <td>56.000000</td>\n",
       "      <td>46.135000</td>\n",
       "    </tr>\n",
       "    <tr>\n",
       "      <th>max</th>\n",
       "      <td>540.000000</td>\n",
       "      <td>359.400000</td>\n",
       "      <td>200.100000</td>\n",
       "      <td>247.000000</td>\n",
       "      <td>32.200000</td>\n",
       "      <td>1145.000000</td>\n",
       "      <td>992.600000</td>\n",
       "      <td>365.000000</td>\n",
       "      <td>82.600000</td>\n",
       "    </tr>\n",
       "  </tbody>\n",
       "</table>\n",
       "</div>"
      ],
      "text/plain": [
       "            Cement  Blast Furnace Slag      Fly Ash        Water  \\\n",
       "count  1030.000000         1030.000000  1030.000000  1030.000000   \n",
       "mean    281.167864           73.895825    54.188350   181.567282   \n",
       "std     104.506364           86.279342    63.997004    21.354219   \n",
       "min     102.000000            0.000000     0.000000   121.800000   \n",
       "25%     192.375000            0.000000     0.000000   164.900000   \n",
       "50%     272.900000           22.000000     0.000000   185.000000   \n",
       "75%     350.000000          142.950000   118.300000   192.000000   \n",
       "max     540.000000          359.400000   200.100000   247.000000   \n",
       "\n",
       "       Superplasticizer  Coarse Aggregate  Fine Aggregate          Age  \\\n",
       "count       1030.000000       1030.000000     1030.000000  1030.000000   \n",
       "mean           6.204660        972.918932      773.580485    45.662136   \n",
       "std            5.973841         77.753954       80.175980    63.169912   \n",
       "min            0.000000        801.000000      594.000000     1.000000   \n",
       "25%            0.000000        932.000000      730.950000     7.000000   \n",
       "50%            6.400000        968.000000      779.500000    28.000000   \n",
       "75%           10.200000       1029.400000      824.000000    56.000000   \n",
       "max           32.200000       1145.000000      992.600000   365.000000   \n",
       "\n",
       "          Strength  \n",
       "count  1030.000000  \n",
       "mean     35.817961  \n",
       "std      16.705742  \n",
       "min       2.330000  \n",
       "25%      23.710000  \n",
       "50%      34.445000  \n",
       "75%      46.135000  \n",
       "max      82.600000  "
      ]
     },
     "execution_count": 4,
     "metadata": {},
     "output_type": "execute_result"
    }
   ],
   "source": [
    "concrete_data.describe()"
   ]
  },
  {
   "cell_type": "code",
   "execution_count": 5,
   "metadata": {
    "button": false,
    "deletable": true,
    "new_sheet": false,
    "run_control": {
     "read_only": false
    }
   },
   "outputs": [
    {
     "data": {
      "text/plain": [
       "Cement                0\n",
       "Blast Furnace Slag    0\n",
       "Fly Ash               0\n",
       "Water                 0\n",
       "Superplasticizer      0\n",
       "Coarse Aggregate      0\n",
       "Fine Aggregate        0\n",
       "Age                   0\n",
       "Strength              0\n",
       "dtype: int64"
      ]
     },
     "execution_count": 5,
     "metadata": {},
     "output_type": "execute_result"
    }
   ],
   "source": [
    "concrete_data.isnull().sum()"
   ]
  },
  {
   "cell_type": "markdown",
   "metadata": {
    "button": false,
    "deletable": true,
    "new_sheet": false,
    "run_control": {
     "read_only": false
    }
   },
   "source": [
    "The data looks very clean and is ready to be used to build our model."
   ]
  },
  {
   "cell_type": "markdown",
   "metadata": {
    "button": false,
    "deletable": true,
    "new_sheet": false,
    "run_control": {
     "read_only": false
    }
   },
   "source": [
    "#### Split data into predictors and target"
   ]
  },
  {
   "cell_type": "markdown",
   "metadata": {},
   "source": [
    "The target variable in this problem is the concrete sample strength. Therefore, our predictors will be all the other columns."
   ]
  },
  {
   "cell_type": "code",
   "execution_count": 6,
   "metadata": {
    "button": false,
    "deletable": true,
    "new_sheet": false,
    "run_control": {
     "read_only": false
    }
   },
   "outputs": [],
   "source": [
    "concrete_data_columns = concrete_data.columns\n",
    "\n",
    "predictors = concrete_data[concrete_data_columns[concrete_data_columns != 'Strength']] # all columns except Strength\n",
    "target = concrete_data['Strength'] # Strength column"
   ]
  },
  {
   "cell_type": "markdown",
   "metadata": {
    "button": false,
    "deletable": true,
    "new_sheet": false,
    "run_control": {
     "read_only": false
    }
   },
   "source": [
    "Let's do a quick sanity check of the predictors and the target dataframes."
   ]
  },
  {
   "cell_type": "code",
   "execution_count": 7,
   "metadata": {
    "button": false,
    "deletable": true,
    "new_sheet": false,
    "run_control": {
     "read_only": false
    }
   },
   "outputs": [
    {
     "data": {
      "text/html": [
       "<div>\n",
       "<style scoped>\n",
       "    .dataframe tbody tr th:only-of-type {\n",
       "        vertical-align: middle;\n",
       "    }\n",
       "\n",
       "    .dataframe tbody tr th {\n",
       "        vertical-align: top;\n",
       "    }\n",
       "\n",
       "    .dataframe thead th {\n",
       "        text-align: right;\n",
       "    }\n",
       "</style>\n",
       "<table border=\"1\" class=\"dataframe\">\n",
       "  <thead>\n",
       "    <tr style=\"text-align: right;\">\n",
       "      <th></th>\n",
       "      <th>Cement</th>\n",
       "      <th>Blast Furnace Slag</th>\n",
       "      <th>Fly Ash</th>\n",
       "      <th>Water</th>\n",
       "      <th>Superplasticizer</th>\n",
       "      <th>Coarse Aggregate</th>\n",
       "      <th>Fine Aggregate</th>\n",
       "      <th>Age</th>\n",
       "    </tr>\n",
       "  </thead>\n",
       "  <tbody>\n",
       "    <tr>\n",
       "      <th>0</th>\n",
       "      <td>540.0</td>\n",
       "      <td>0.0</td>\n",
       "      <td>0.0</td>\n",
       "      <td>162.0</td>\n",
       "      <td>2.5</td>\n",
       "      <td>1040.0</td>\n",
       "      <td>676.0</td>\n",
       "      <td>28</td>\n",
       "    </tr>\n",
       "    <tr>\n",
       "      <th>1</th>\n",
       "      <td>540.0</td>\n",
       "      <td>0.0</td>\n",
       "      <td>0.0</td>\n",
       "      <td>162.0</td>\n",
       "      <td>2.5</td>\n",
       "      <td>1055.0</td>\n",
       "      <td>676.0</td>\n",
       "      <td>28</td>\n",
       "    </tr>\n",
       "    <tr>\n",
       "      <th>2</th>\n",
       "      <td>332.5</td>\n",
       "      <td>142.5</td>\n",
       "      <td>0.0</td>\n",
       "      <td>228.0</td>\n",
       "      <td>0.0</td>\n",
       "      <td>932.0</td>\n",
       "      <td>594.0</td>\n",
       "      <td>270</td>\n",
       "    </tr>\n",
       "    <tr>\n",
       "      <th>3</th>\n",
       "      <td>332.5</td>\n",
       "      <td>142.5</td>\n",
       "      <td>0.0</td>\n",
       "      <td>228.0</td>\n",
       "      <td>0.0</td>\n",
       "      <td>932.0</td>\n",
       "      <td>594.0</td>\n",
       "      <td>365</td>\n",
       "    </tr>\n",
       "    <tr>\n",
       "      <th>4</th>\n",
       "      <td>198.6</td>\n",
       "      <td>132.4</td>\n",
       "      <td>0.0</td>\n",
       "      <td>192.0</td>\n",
       "      <td>0.0</td>\n",
       "      <td>978.4</td>\n",
       "      <td>825.5</td>\n",
       "      <td>360</td>\n",
       "    </tr>\n",
       "  </tbody>\n",
       "</table>\n",
       "</div>"
      ],
      "text/plain": [
       "   Cement  Blast Furnace Slag  Fly Ash  Water  Superplasticizer  \\\n",
       "0   540.0                 0.0      0.0  162.0               2.5   \n",
       "1   540.0                 0.0      0.0  162.0               2.5   \n",
       "2   332.5               142.5      0.0  228.0               0.0   \n",
       "3   332.5               142.5      0.0  228.0               0.0   \n",
       "4   198.6               132.4      0.0  192.0               0.0   \n",
       "\n",
       "   Coarse Aggregate  Fine Aggregate  Age  \n",
       "0            1040.0           676.0   28  \n",
       "1            1055.0           676.0   28  \n",
       "2             932.0           594.0  270  \n",
       "3             932.0           594.0  365  \n",
       "4             978.4           825.5  360  "
      ]
     },
     "execution_count": 7,
     "metadata": {},
     "output_type": "execute_result"
    }
   ],
   "source": [
    "predictors.head()"
   ]
  },
  {
   "cell_type": "code",
   "execution_count": null,
   "metadata": {
    "button": false,
    "deletable": true,
    "new_sheet": false,
    "run_control": {
     "read_only": false
    }
   },
   "outputs": [
    {
     "data": {
      "text/plain": [
       "0    79.99\n",
       "1    61.89\n",
       "2    40.27\n",
       "3    41.05\n",
       "4    44.30\n",
       "Name: Strength, dtype: float64"
      ]
     },
     "metadata": {},
     "output_type": "display_data"
    }
   ],
   "source": [
    "target.head()"
   ]
  },
  {
   "cell_type": "markdown",
   "metadata": {
    "button": false,
    "deletable": true,
    "new_sheet": false,
    "run_control": {
     "read_only": false
    }
   },
   "source": [
    "Finally, the last step is to normalize the data by substracting the mean and dividing by the standard deviation."
   ]
  },
  {
   "cell_type": "code",
   "execution_count": 8,
   "metadata": {
    "button": false,
    "deletable": true,
    "new_sheet": false,
    "run_control": {
     "read_only": false
    }
   },
   "outputs": [
    {
     "data": {
      "text/html": [
       "<div>\n",
       "<style scoped>\n",
       "    .dataframe tbody tr th:only-of-type {\n",
       "        vertical-align: middle;\n",
       "    }\n",
       "\n",
       "    .dataframe tbody tr th {\n",
       "        vertical-align: top;\n",
       "    }\n",
       "\n",
       "    .dataframe thead th {\n",
       "        text-align: right;\n",
       "    }\n",
       "</style>\n",
       "<table border=\"1\" class=\"dataframe\">\n",
       "  <thead>\n",
       "    <tr style=\"text-align: right;\">\n",
       "      <th></th>\n",
       "      <th>Cement</th>\n",
       "      <th>Blast Furnace Slag</th>\n",
       "      <th>Fly Ash</th>\n",
       "      <th>Water</th>\n",
       "      <th>Superplasticizer</th>\n",
       "      <th>Coarse Aggregate</th>\n",
       "      <th>Fine Aggregate</th>\n",
       "      <th>Age</th>\n",
       "    </tr>\n",
       "  </thead>\n",
       "  <tbody>\n",
       "    <tr>\n",
       "      <th>0</th>\n",
       "      <td>2.476712</td>\n",
       "      <td>-0.856472</td>\n",
       "      <td>-0.846733</td>\n",
       "      <td>-0.916319</td>\n",
       "      <td>-0.620147</td>\n",
       "      <td>0.862735</td>\n",
       "      <td>-1.217079</td>\n",
       "      <td>-0.279597</td>\n",
       "    </tr>\n",
       "    <tr>\n",
       "      <th>1</th>\n",
       "      <td>2.476712</td>\n",
       "      <td>-0.856472</td>\n",
       "      <td>-0.846733</td>\n",
       "      <td>-0.916319</td>\n",
       "      <td>-0.620147</td>\n",
       "      <td>1.055651</td>\n",
       "      <td>-1.217079</td>\n",
       "      <td>-0.279597</td>\n",
       "    </tr>\n",
       "    <tr>\n",
       "      <th>2</th>\n",
       "      <td>0.491187</td>\n",
       "      <td>0.795140</td>\n",
       "      <td>-0.846733</td>\n",
       "      <td>2.174405</td>\n",
       "      <td>-1.038638</td>\n",
       "      <td>-0.526262</td>\n",
       "      <td>-2.239829</td>\n",
       "      <td>3.551340</td>\n",
       "    </tr>\n",
       "    <tr>\n",
       "      <th>3</th>\n",
       "      <td>0.491187</td>\n",
       "      <td>0.795140</td>\n",
       "      <td>-0.846733</td>\n",
       "      <td>2.174405</td>\n",
       "      <td>-1.038638</td>\n",
       "      <td>-0.526262</td>\n",
       "      <td>-2.239829</td>\n",
       "      <td>5.055221</td>\n",
       "    </tr>\n",
       "    <tr>\n",
       "      <th>4</th>\n",
       "      <td>-0.790075</td>\n",
       "      <td>0.678079</td>\n",
       "      <td>-0.846733</td>\n",
       "      <td>0.488555</td>\n",
       "      <td>-1.038638</td>\n",
       "      <td>0.070492</td>\n",
       "      <td>0.647569</td>\n",
       "      <td>4.976069</td>\n",
       "    </tr>\n",
       "  </tbody>\n",
       "</table>\n",
       "</div>"
      ],
      "text/plain": [
       "     Cement  Blast Furnace Slag   Fly Ash     Water  Superplasticizer  \\\n",
       "0  2.476712           -0.856472 -0.846733 -0.916319         -0.620147   \n",
       "1  2.476712           -0.856472 -0.846733 -0.916319         -0.620147   \n",
       "2  0.491187            0.795140 -0.846733  2.174405         -1.038638   \n",
       "3  0.491187            0.795140 -0.846733  2.174405         -1.038638   \n",
       "4 -0.790075            0.678079 -0.846733  0.488555         -1.038638   \n",
       "\n",
       "   Coarse Aggregate  Fine Aggregate       Age  \n",
       "0          0.862735       -1.217079 -0.279597  \n",
       "1          1.055651       -1.217079 -0.279597  \n",
       "2         -0.526262       -2.239829  3.551340  \n",
       "3         -0.526262       -2.239829  5.055221  \n",
       "4          0.070492        0.647569  4.976069  "
      ]
     },
     "execution_count": 8,
     "metadata": {},
     "output_type": "execute_result"
    }
   ],
   "source": [
    "predictors_norm = (predictors - predictors.mean()) / predictors.std()\n",
    "predictors_norm.head()"
   ]
  },
  {
   "cell_type": "markdown",
   "metadata": {},
   "source": [
    "Let's save the number of predictors to *n_cols* since we will need this number when building our network."
   ]
  },
  {
   "cell_type": "code",
   "execution_count": 9,
   "metadata": {
    "button": false,
    "deletable": true,
    "new_sheet": false,
    "run_control": {
     "read_only": false
    }
   },
   "outputs": [],
   "source": [
    "n_cols = predictors_norm.shape[1] # number of predictors"
   ]
  },
  {
   "cell_type": "markdown",
   "metadata": {
    "button": false,
    "deletable": true,
    "new_sheet": false,
    "run_control": {
     "read_only": false
    }
   },
   "source": [
    "## Import Keras"
   ]
  },
  {
   "cell_type": "markdown",
   "metadata": {
    "button": false,
    "deletable": true,
    "new_sheet": false,
    "run_control": {
     "read_only": false
    }
   },
   "source": [
    "Recall from the videos that Keras normally runs on top of a low-level library such as TensorFlow. This means that to be able to use the Keras library, you will have to install TensorFlow first and when you import the Keras library, it will be explicitly displayed what backend was used to install the Keras library. In CC Labs, we used TensorFlow as the backend to install Keras, so it should clearly print that when we import Keras."
   ]
  },
  {
   "cell_type": "markdown",
   "metadata": {
    "button": false,
    "deletable": true,
    "new_sheet": false,
    "run_control": {
     "read_only": false
    }
   },
   "source": [
    "#### Let's go ahead and import the Keras library"
   ]
  },
  {
   "cell_type": "code",
   "execution_count": 10,
   "metadata": {
    "button": false,
    "deletable": true,
    "new_sheet": false,
    "run_control": {
     "read_only": false
    }
   },
   "outputs": [],
   "source": [
    "import tensorflow.keras"
   ]
  },
  {
   "cell_type": "markdown",
   "metadata": {
    "button": false,
    "deletable": true,
    "new_sheet": false,
    "run_control": {
     "read_only": false
    }
   },
   "source": [
    "As you can see, the TensorFlow backend was used to install the Keras library."
   ]
  },
  {
   "cell_type": "markdown",
   "metadata": {
    "button": false,
    "deletable": true,
    "new_sheet": false,
    "run_control": {
     "read_only": false
    }
   },
   "source": [
    "Let's import the rest of the packages from the Keras library that we will need to build our regressoin model."
   ]
  },
  {
   "cell_type": "code",
   "execution_count": 11,
   "metadata": {
    "button": false,
    "deletable": true,
    "new_sheet": false,
    "run_control": {
     "read_only": false
    }
   },
   "outputs": [],
   "source": [
    "from tensorflow.keras.models import Sequential\n",
    "from tensorflow.keras.layers import Dense"
   ]
  },
  {
   "cell_type": "markdown",
   "metadata": {
    "button": false,
    "deletable": true,
    "new_sheet": false,
    "run_control": {
     "read_only": false
    }
   },
   "source": [
    "## Build a Neural Network"
   ]
  },
  {
   "cell_type": "markdown",
   "metadata": {
    "button": false,
    "deletable": true,
    "new_sheet": false,
    "run_control": {
     "read_only": false
    }
   },
   "source": [
    "Let's define a function that defines our regression model for us so that we can conveniently call it to create our model."
   ]
  },
  {
   "cell_type": "code",
   "execution_count": 37,
   "metadata": {
    "button": false,
    "deletable": true,
    "new_sheet": false,
    "run_control": {
     "read_only": false
    }
   },
   "outputs": [],
   "source": [
    "# define regression model\n",
    "def regression_model():\n",
    "    # create model\n",
    "    model = Sequential()\n",
    "    model.add(Dense(50, activation='relu', input_shape=(n_cols,)))\n",
    "    model.add(Dense(50, activation='relu'))\n",
    "    model.add(Dense(1))\n",
    "    \n",
    "    # compile model\n",
    "    model.compile(optimizer='adam', loss='mean_squared_error',metrics = ['mse'])\n",
    "    return model"
   ]
  },
  {
   "cell_type": "markdown",
   "metadata": {},
   "source": [
    "The above function create a model that has two hidden layers, each of 50 hidden units."
   ]
  },
  {
   "cell_type": "markdown",
   "metadata": {
    "button": false,
    "deletable": true,
    "new_sheet": false,
    "run_control": {
     "read_only": false
    }
   },
   "source": [
    "## Train and Test the Network"
   ]
  },
  {
   "cell_type": "markdown",
   "metadata": {},
   "source": [
    "Let's call the function now to create our model."
   ]
  },
  {
   "cell_type": "code",
   "execution_count": 38,
   "metadata": {
    "button": false,
    "deletable": true,
    "new_sheet": false,
    "run_control": {
     "read_only": false
    }
   },
   "outputs": [],
   "source": [
    "# build the model\n",
    "model = regression_model()"
   ]
  },
  {
   "cell_type": "markdown",
   "metadata": {},
   "source": [
    "lets view the summary of the build network."
   ]
  },
  {
   "cell_type": "code",
   "execution_count": 39,
   "metadata": {},
   "outputs": [
    {
     "name": "stdout",
     "output_type": "stream",
     "text": [
      "Model: \"sequential_4\"\n",
      "_________________________________________________________________\n",
      " Layer (type)                Output Shape              Param #   \n",
      "=================================================================\n",
      " dense_12 (Dense)            (None, 50)                450       \n",
      "                                                                 \n",
      " dense_13 (Dense)            (None, 50)                2550      \n",
      "                                                                 \n",
      " dense_14 (Dense)            (None, 1)                 51        \n",
      "                                                                 \n",
      "=================================================================\n",
      "Total params: 3,051\n",
      "Trainable params: 3,051\n",
      "Non-trainable params: 0\n",
      "_________________________________________________________________\n"
     ]
    }
   ],
   "source": [
    "model.summary()"
   ]
  },
  {
   "cell_type": "markdown",
   "metadata": {},
   "source": [
    "Next, we will train and test the model at the same time using the *fit* method. We will leave out 30% of the data for validation and we will train the model for 100 epochs."
   ]
  },
  {
   "cell_type": "code",
   "execution_count": 40,
   "metadata": {},
   "outputs": [
    {
     "name": "stdout",
     "output_type": "stream",
     "text": [
      "Epoch 1/100\n",
      "23/23 - 0s - loss: 1670.7552 - mse: 1670.7552 - val_loss: 1160.7987 - val_mse: 1160.7987 - 496ms/epoch - 22ms/step\n",
      "Epoch 2/100\n",
      "23/23 - 0s - loss: 1539.4277 - mse: 1539.4277 - val_loss: 1046.2499 - val_mse: 1046.2499 - 182ms/epoch - 8ms/step\n",
      "Epoch 3/100\n",
      "23/23 - 0s - loss: 1335.1840 - mse: 1335.1840 - val_loss: 874.4266 - val_mse: 874.4266 - 169ms/epoch - 7ms/step\n",
      "Epoch 4/100\n",
      "23/23 - 0s - loss: 1034.0941 - mse: 1034.0941 - val_loss: 651.0777 - val_mse: 651.0777 - 163ms/epoch - 7ms/step\n",
      "Epoch 5/100\n",
      "23/23 - 0s - loss: 679.5656 - mse: 679.5656 - val_loss: 425.3527 - val_mse: 425.3527 - 159ms/epoch - 7ms/step\n",
      "Epoch 6/100\n",
      "23/23 - 0s - loss: 397.7134 - mse: 397.7134 - val_loss: 257.9761 - val_mse: 257.9761 - 133ms/epoch - 6ms/step\n",
      "Epoch 7/100\n",
      "23/23 - 0s - loss: 272.8148 - mse: 272.8148 - val_loss: 185.5538 - val_mse: 185.5538 - 127ms/epoch - 6ms/step\n",
      "Epoch 8/100\n",
      "23/23 - 0s - loss: 238.9703 - mse: 238.9703 - val_loss: 165.1178 - val_mse: 165.1178 - 123ms/epoch - 5ms/step\n",
      "Epoch 9/100\n",
      "23/23 - 0s - loss: 223.6486 - mse: 223.6486 - val_loss: 160.8473 - val_mse: 160.8473 - 128ms/epoch - 6ms/step\n",
      "Epoch 10/100\n",
      "23/23 - 0s - loss: 211.7304 - mse: 211.7304 - val_loss: 155.6283 - val_mse: 155.6283 - 119ms/epoch - 5ms/step\n",
      "Epoch 11/100\n",
      "23/23 - 0s - loss: 202.8430 - mse: 202.8430 - val_loss: 153.7626 - val_mse: 153.7626 - 119ms/epoch - 5ms/step\n",
      "Epoch 12/100\n",
      "23/23 - 0s - loss: 195.5161 - mse: 195.5161 - val_loss: 150.1139 - val_mse: 150.1139 - 123ms/epoch - 5ms/step\n",
      "Epoch 13/100\n",
      "23/23 - 0s - loss: 189.4210 - mse: 189.4210 - val_loss: 148.6746 - val_mse: 148.6746 - 119ms/epoch - 5ms/step\n",
      "Epoch 14/100\n",
      "23/23 - 0s - loss: 183.5438 - mse: 183.5438 - val_loss: 143.4809 - val_mse: 143.4809 - 121ms/epoch - 5ms/step\n",
      "Epoch 15/100\n",
      "23/23 - 0s - loss: 178.8617 - mse: 178.8617 - val_loss: 141.8437 - val_mse: 141.8437 - 119ms/epoch - 5ms/step\n",
      "Epoch 16/100\n",
      "23/23 - 0s - loss: 174.3671 - mse: 174.3671 - val_loss: 141.7209 - val_mse: 141.7209 - 112ms/epoch - 5ms/step\n",
      "Epoch 17/100\n",
      "23/23 - 0s - loss: 170.6849 - mse: 170.6849 - val_loss: 141.1429 - val_mse: 141.1429 - 122ms/epoch - 5ms/step\n",
      "Epoch 18/100\n",
      "23/23 - 0s - loss: 167.6051 - mse: 167.6051 - val_loss: 140.0632 - val_mse: 140.0632 - 117ms/epoch - 5ms/step\n",
      "Epoch 19/100\n",
      "23/23 - 0s - loss: 163.7887 - mse: 163.7887 - val_loss: 136.5333 - val_mse: 136.5333 - 118ms/epoch - 5ms/step\n",
      "Epoch 20/100\n",
      "23/23 - 0s - loss: 160.9760 - mse: 160.9760 - val_loss: 135.3145 - val_mse: 135.3145 - 131ms/epoch - 6ms/step\n",
      "Epoch 21/100\n",
      "23/23 - 0s - loss: 158.3902 - mse: 158.3902 - val_loss: 132.4525 - val_mse: 132.4525 - 145ms/epoch - 6ms/step\n",
      "Epoch 22/100\n",
      "23/23 - 0s - loss: 155.7717 - mse: 155.7717 - val_loss: 133.1573 - val_mse: 133.1573 - 142ms/epoch - 6ms/step\n",
      "Epoch 23/100\n",
      "23/23 - 0s - loss: 153.6661 - mse: 153.6661 - val_loss: 132.8971 - val_mse: 132.8971 - 119ms/epoch - 5ms/step\n",
      "Epoch 24/100\n",
      "23/23 - 0s - loss: 151.8696 - mse: 151.8696 - val_loss: 131.3428 - val_mse: 131.3428 - 120ms/epoch - 5ms/step\n",
      "Epoch 25/100\n",
      "23/23 - 0s - loss: 149.4406 - mse: 149.4406 - val_loss: 129.9314 - val_mse: 129.9314 - 117ms/epoch - 5ms/step\n",
      "Epoch 26/100\n",
      "23/23 - 0s - loss: 146.8236 - mse: 146.8236 - val_loss: 129.2841 - val_mse: 129.2841 - 121ms/epoch - 5ms/step\n",
      "Epoch 27/100\n",
      "23/23 - 0s - loss: 145.1792 - mse: 145.1792 - val_loss: 131.6078 - val_mse: 131.6078 - 137ms/epoch - 6ms/step\n",
      "Epoch 28/100\n",
      "23/23 - 0s - loss: 143.3313 - mse: 143.3313 - val_loss: 129.8610 - val_mse: 129.8610 - 127ms/epoch - 6ms/step\n",
      "Epoch 29/100\n",
      "23/23 - 0s - loss: 141.5056 - mse: 141.5056 - val_loss: 128.9012 - val_mse: 128.9012 - 149ms/epoch - 6ms/step\n",
      "Epoch 30/100\n",
      "23/23 - 0s - loss: 139.9294 - mse: 139.9294 - val_loss: 129.6686 - val_mse: 129.6686 - 123ms/epoch - 5ms/step\n",
      "Epoch 31/100\n",
      "23/23 - 0s - loss: 137.5938 - mse: 137.5938 - val_loss: 130.8673 - val_mse: 130.8673 - 117ms/epoch - 5ms/step\n",
      "Epoch 32/100\n",
      "23/23 - 0s - loss: 136.1716 - mse: 136.1716 - val_loss: 129.6615 - val_mse: 129.6615 - 115ms/epoch - 5ms/step\n",
      "Epoch 33/100\n",
      "23/23 - 0s - loss: 134.5286 - mse: 134.5286 - val_loss: 131.5719 - val_mse: 131.5719 - 122ms/epoch - 5ms/step\n",
      "Epoch 34/100\n",
      "23/23 - 0s - loss: 133.0762 - mse: 133.0762 - val_loss: 129.9060 - val_mse: 129.9060 - 118ms/epoch - 5ms/step\n",
      "Epoch 35/100\n",
      "23/23 - 0s - loss: 131.6336 - mse: 131.6336 - val_loss: 131.5673 - val_mse: 131.5673 - 120ms/epoch - 5ms/step\n",
      "Epoch 36/100\n",
      "23/23 - 0s - loss: 130.5990 - mse: 130.5990 - val_loss: 134.1028 - val_mse: 134.1028 - 124ms/epoch - 5ms/step\n",
      "Epoch 37/100\n",
      "23/23 - 0s - loss: 128.6928 - mse: 128.6928 - val_loss: 133.4818 - val_mse: 133.4818 - 129ms/epoch - 6ms/step\n",
      "Epoch 38/100\n",
      "23/23 - 0s - loss: 127.4363 - mse: 127.4363 - val_loss: 133.7922 - val_mse: 133.7922 - 130ms/epoch - 6ms/step\n",
      "Epoch 39/100\n",
      "23/23 - 0s - loss: 126.6212 - mse: 126.6212 - val_loss: 135.1975 - val_mse: 135.1975 - 130ms/epoch - 6ms/step\n",
      "Epoch 40/100\n",
      "23/23 - 0s - loss: 125.0281 - mse: 125.0281 - val_loss: 133.4966 - val_mse: 133.4966 - 126ms/epoch - 5ms/step\n",
      "Epoch 41/100\n",
      "23/23 - 0s - loss: 124.0472 - mse: 124.0472 - val_loss: 137.8096 - val_mse: 137.8096 - 129ms/epoch - 6ms/step\n",
      "Epoch 42/100\n",
      "23/23 - 0s - loss: 122.4883 - mse: 122.4883 - val_loss: 135.8531 - val_mse: 135.8531 - 130ms/epoch - 6ms/step\n",
      "Epoch 43/100\n",
      "23/23 - 0s - loss: 121.2396 - mse: 121.2396 - val_loss: 136.9529 - val_mse: 136.9529 - 139ms/epoch - 6ms/step\n",
      "Epoch 44/100\n",
      "23/23 - 0s - loss: 119.5891 - mse: 119.5891 - val_loss: 137.7584 - val_mse: 137.7584 - 134ms/epoch - 6ms/step\n",
      "Epoch 45/100\n",
      "23/23 - 0s - loss: 119.1830 - mse: 119.1830 - val_loss: 138.4400 - val_mse: 138.4400 - 140ms/epoch - 6ms/step\n",
      "Epoch 46/100\n",
      "23/23 - 0s - loss: 117.5134 - mse: 117.5134 - val_loss: 139.2941 - val_mse: 139.2941 - 125ms/epoch - 5ms/step\n",
      "Epoch 47/100\n",
      "23/23 - 0s - loss: 115.3941 - mse: 115.3941 - val_loss: 138.9962 - val_mse: 138.9962 - 128ms/epoch - 6ms/step\n",
      "Epoch 48/100\n",
      "23/23 - 0s - loss: 114.1324 - mse: 114.1324 - val_loss: 140.2557 - val_mse: 140.2557 - 128ms/epoch - 6ms/step\n",
      "Epoch 49/100\n",
      "23/23 - 0s - loss: 112.8687 - mse: 112.8687 - val_loss: 139.0475 - val_mse: 139.0475 - 130ms/epoch - 6ms/step\n",
      "Epoch 50/100\n",
      "23/23 - 0s - loss: 111.4451 - mse: 111.4451 - val_loss: 140.3897 - val_mse: 140.3897 - 127ms/epoch - 6ms/step\n",
      "Epoch 51/100\n",
      "23/23 - 0s - loss: 110.1965 - mse: 110.1965 - val_loss: 139.4426 - val_mse: 139.4426 - 131ms/epoch - 6ms/step\n",
      "Epoch 52/100\n",
      "23/23 - 0s - loss: 108.4889 - mse: 108.4889 - val_loss: 142.9712 - val_mse: 142.9712 - 131ms/epoch - 6ms/step\n",
      "Epoch 53/100\n",
      "23/23 - 0s - loss: 106.8022 - mse: 106.8022 - val_loss: 140.8083 - val_mse: 140.8083 - 126ms/epoch - 5ms/step\n",
      "Epoch 54/100\n",
      "23/23 - 0s - loss: 104.7977 - mse: 104.7977 - val_loss: 140.9238 - val_mse: 140.9238 - 120ms/epoch - 5ms/step\n",
      "Epoch 55/100\n",
      "23/23 - 0s - loss: 103.6802 - mse: 103.6802 - val_loss: 143.0549 - val_mse: 143.0549 - 134ms/epoch - 6ms/step\n",
      "Epoch 56/100\n",
      "23/23 - 0s - loss: 101.7529 - mse: 101.7529 - val_loss: 140.2032 - val_mse: 140.2032 - 131ms/epoch - 6ms/step\n",
      "Epoch 57/100\n",
      "23/23 - 0s - loss: 100.0439 - mse: 100.0439 - val_loss: 138.7196 - val_mse: 138.7196 - 133ms/epoch - 6ms/step\n",
      "Epoch 58/100\n",
      "23/23 - 0s - loss: 98.6074 - mse: 98.6074 - val_loss: 138.0508 - val_mse: 138.0508 - 134ms/epoch - 6ms/step\n",
      "Epoch 59/100\n",
      "23/23 - 0s - loss: 96.7866 - mse: 96.7866 - val_loss: 138.3085 - val_mse: 138.3085 - 132ms/epoch - 6ms/step\n",
      "Epoch 60/100\n",
      "23/23 - 0s - loss: 93.8880 - mse: 93.8880 - val_loss: 139.5466 - val_mse: 139.5466 - 140ms/epoch - 6ms/step\n",
      "Epoch 61/100\n",
      "23/23 - 0s - loss: 92.8188 - mse: 92.8188 - val_loss: 135.8305 - val_mse: 135.8305 - 123ms/epoch - 5ms/step\n",
      "Epoch 62/100\n",
      "23/23 - 0s - loss: 88.8810 - mse: 88.8810 - val_loss: 138.2024 - val_mse: 138.2024 - 125ms/epoch - 5ms/step\n",
      "Epoch 63/100\n",
      "23/23 - 0s - loss: 86.1640 - mse: 86.1640 - val_loss: 137.8715 - val_mse: 137.8715 - 147ms/epoch - 6ms/step\n",
      "Epoch 64/100\n",
      "23/23 - 0s - loss: 83.3162 - mse: 83.3162 - val_loss: 130.8055 - val_mse: 130.8055 - 134ms/epoch - 6ms/step\n",
      "Epoch 65/100\n",
      "23/23 - 0s - loss: 80.3008 - mse: 80.3008 - val_loss: 136.2758 - val_mse: 136.2758 - 126ms/epoch - 5ms/step\n",
      "Epoch 66/100\n",
      "23/23 - 0s - loss: 78.8781 - mse: 78.8781 - val_loss: 135.5319 - val_mse: 135.5319 - 130ms/epoch - 6ms/step\n",
      "Epoch 67/100\n",
      "23/23 - 0s - loss: 76.2165 - mse: 76.2165 - val_loss: 129.3472 - val_mse: 129.3472 - 128ms/epoch - 6ms/step\n",
      "Epoch 68/100\n",
      "23/23 - 0s - loss: 73.2629 - mse: 73.2629 - val_loss: 134.9503 - val_mse: 134.9503 - 127ms/epoch - 6ms/step\n",
      "Epoch 69/100\n",
      "23/23 - 0s - loss: 71.3199 - mse: 71.3199 - val_loss: 126.0004 - val_mse: 126.0004 - 126ms/epoch - 5ms/step\n",
      "Epoch 70/100\n",
      "23/23 - 0s - loss: 69.0903 - mse: 69.0903 - val_loss: 129.1844 - val_mse: 129.1844 - 132ms/epoch - 6ms/step\n",
      "Epoch 71/100\n",
      "23/23 - 0s - loss: 66.4907 - mse: 66.4907 - val_loss: 123.8453 - val_mse: 123.8453 - 129ms/epoch - 6ms/step\n",
      "Epoch 72/100\n",
      "23/23 - 0s - loss: 64.2534 - mse: 64.2534 - val_loss: 123.3333 - val_mse: 123.3333 - 129ms/epoch - 6ms/step\n",
      "Epoch 73/100\n",
      "23/23 - 0s - loss: 61.9980 - mse: 61.9980 - val_loss: 121.2335 - val_mse: 121.2335 - 132ms/epoch - 6ms/step\n",
      "Epoch 74/100\n",
      "23/23 - 0s - loss: 59.5304 - mse: 59.5304 - val_loss: 118.2510 - val_mse: 118.2510 - 131ms/epoch - 6ms/step\n",
      "Epoch 75/100\n",
      "23/23 - 0s - loss: 57.7093 - mse: 57.7093 - val_loss: 121.2821 - val_mse: 121.2821 - 132ms/epoch - 6ms/step\n",
      "Epoch 76/100\n",
      "23/23 - 0s - loss: 55.5133 - mse: 55.5133 - val_loss: 114.9778 - val_mse: 114.9778 - 127ms/epoch - 6ms/step\n",
      "Epoch 77/100\n",
      "23/23 - 0s - loss: 53.8723 - mse: 53.8723 - val_loss: 117.6913 - val_mse: 117.6913 - 125ms/epoch - 5ms/step\n",
      "Epoch 78/100\n",
      "23/23 - 0s - loss: 52.4392 - mse: 52.4392 - val_loss: 116.3390 - val_mse: 116.3390 - 146ms/epoch - 6ms/step\n",
      "Epoch 79/100\n",
      "23/23 - 0s - loss: 50.9897 - mse: 50.9897 - val_loss: 115.0347 - val_mse: 115.0347 - 134ms/epoch - 6ms/step\n",
      "Epoch 80/100\n",
      "23/23 - 0s - loss: 49.6825 - mse: 49.6825 - val_loss: 116.6742 - val_mse: 116.6742 - 131ms/epoch - 6ms/step\n",
      "Epoch 81/100\n",
      "23/23 - 0s - loss: 47.9623 - mse: 47.9623 - val_loss: 114.7611 - val_mse: 114.7611 - 133ms/epoch - 6ms/step\n",
      "Epoch 82/100\n",
      "23/23 - 0s - loss: 46.7342 - mse: 46.7342 - val_loss: 112.0915 - val_mse: 112.0915 - 135ms/epoch - 6ms/step\n",
      "Epoch 83/100\n",
      "23/23 - 0s - loss: 45.4889 - mse: 45.4889 - val_loss: 120.2611 - val_mse: 120.2611 - 125ms/epoch - 5ms/step\n",
      "Epoch 84/100\n",
      "23/23 - 0s - loss: 45.2157 - mse: 45.2157 - val_loss: 108.6520 - val_mse: 108.6520 - 127ms/epoch - 6ms/step\n",
      "Epoch 85/100\n",
      "23/23 - 0s - loss: 43.4200 - mse: 43.4200 - val_loss: 116.2039 - val_mse: 116.2039 - 129ms/epoch - 6ms/step\n",
      "Epoch 86/100\n",
      "23/23 - 0s - loss: 42.4625 - mse: 42.4625 - val_loss: 116.4108 - val_mse: 116.4108 - 133ms/epoch - 6ms/step\n",
      "Epoch 87/100\n",
      "23/23 - 0s - loss: 41.4696 - mse: 41.4696 - val_loss: 116.9467 - val_mse: 116.9467 - 129ms/epoch - 6ms/step\n",
      "Epoch 88/100\n",
      "23/23 - 0s - loss: 40.4343 - mse: 40.4343 - val_loss: 119.8671 - val_mse: 119.8671 - 126ms/epoch - 5ms/step\n",
      "Epoch 89/100\n",
      "23/23 - 0s - loss: 39.7114 - mse: 39.7114 - val_loss: 118.3008 - val_mse: 118.3008 - 127ms/epoch - 6ms/step\n",
      "Epoch 90/100\n",
      "23/23 - 0s - loss: 38.5171 - mse: 38.5171 - val_loss: 115.2214 - val_mse: 115.2214 - 127ms/epoch - 6ms/step\n",
      "Epoch 91/100\n",
      "23/23 - 0s - loss: 38.1292 - mse: 38.1292 - val_loss: 116.8346 - val_mse: 116.8346 - 132ms/epoch - 6ms/step\n",
      "Epoch 92/100\n",
      "23/23 - 0s - loss: 37.1025 - mse: 37.1025 - val_loss: 124.9532 - val_mse: 124.9532 - 144ms/epoch - 6ms/step\n",
      "Epoch 93/100\n",
      "23/23 - 0s - loss: 36.9064 - mse: 36.9064 - val_loss: 109.7522 - val_mse: 109.7522 - 134ms/epoch - 6ms/step\n",
      "Epoch 94/100\n",
      "23/23 - 0s - loss: 36.5782 - mse: 36.5782 - val_loss: 119.6310 - val_mse: 119.6310 - 130ms/epoch - 6ms/step\n",
      "Epoch 95/100\n",
      "23/23 - 0s - loss: 35.3480 - mse: 35.3480 - val_loss: 124.9734 - val_mse: 124.9734 - 147ms/epoch - 6ms/step\n",
      "Epoch 96/100\n",
      "23/23 - 0s - loss: 34.8757 - mse: 34.8757 - val_loss: 123.7844 - val_mse: 123.7844 - 139ms/epoch - 6ms/step\n",
      "Epoch 97/100\n",
      "23/23 - 0s - loss: 34.5998 - mse: 34.5998 - val_loss: 117.5458 - val_mse: 117.5458 - 131ms/epoch - 6ms/step\n",
      "Epoch 98/100\n",
      "23/23 - 0s - loss: 33.4214 - mse: 33.4214 - val_loss: 119.2619 - val_mse: 119.2619 - 131ms/epoch - 6ms/step\n",
      "Epoch 99/100\n",
      "23/23 - 0s - loss: 33.1408 - mse: 33.1408 - val_loss: 131.5144 - val_mse: 131.5144 - 123ms/epoch - 5ms/step\n",
      "Epoch 100/100\n",
      "23/23 - 0s - loss: 32.9093 - mse: 32.9093 - val_loss: 123.7207 - val_mse: 123.7207 - 127ms/epoch - 6ms/step\n"
     ]
    }
   ],
   "source": [
    "# fit the model\n",
    "history = model.fit(predictors_norm, target, validation_split=0.3, epochs=100, verbose=2)\n"
   ]
  },
  {
   "cell_type": "code",
   "execution_count": 42,
   "metadata": {},
   "outputs": [
    {
     "data": {
      "text/plain": [
       "[<matplotlib.lines.Line2D at 0x21912be0970>]"
      ]
     },
     "execution_count": 42,
     "metadata": {},
     "output_type": "execute_result"
    },
    {
     "data": {
      "image/png": "[encoded data removed]",
      "text/plain": [
       "<Figure size 640x480 with 1 Axes>"
      ]
     },
     "metadata": {},
     "output_type": "display_data"
    }
   ],
   "source": [
    "from matplotlib import pyplot as plt\n",
    "\n",
    "plt.plot(history.history['mse'])\n",
    "plt.plot(history.history['val_mse']) "
   ]
  },
  {
   "cell_type": "markdown",
   "metadata": {
    "button": false,
    "deletable": true,
    "new_sheet": false,
    "run_control": {
     "read_only": false
    }
   },
   "source": [
    "<strong>You can refer to this [link](https://keras.io/models/sequential/) to learn about other functions that you can use for prediction or evaluation.</strong>"
   ]
  },
  {
   "cell_type": "markdown",
   "metadata": {
    "button": false,
    "deletable": true,
    "new_sheet": false,
    "run_control": {
     "read_only": false
    }
   },
   "source": [
    "Feel free to vary the following and note what impact each change has on the model's performance:\n",
    "\n",
    "1. Increase or decreate number of neurons in hidden layers\n",
    "2. Add more hidden layers\n",
    "3. Increase number of epochs"
   ]
  }
 ],
 "metadata": {
  "kernelspec": {
   "display_name": "Python 3.10.7 ('myenv1')",
   "language": "python",
   "name": "python3"
  },
  "language_info": {
   "codemirror_mode": {
    "name": "ipython",
    "version": 3
   },
   "file_extension": ".py",
   "mimetype": "text/x-python",
   "name": "python",
   "nbconvert_exporter": "python",
   "pygments_lexer": "ipython3",
   "version": "3.10.7"
  },
  "orig_nbformat": 4,
  "vscode": {
   "interpreter": {
    "hash": "a0cb3063e4d1817848e0611c0ec90460e2ed4e0f6f83c33189da7391ee5fceee"
   }
  }
 },
 "nbformat": 4,
 "nbformat_minor": 2
}
